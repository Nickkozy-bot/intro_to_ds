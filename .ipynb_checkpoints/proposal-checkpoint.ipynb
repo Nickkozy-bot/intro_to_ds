{
 "cells": [
  {
   "cell_type": "markdown",
   "metadata": {},
   "source": [
    "# YSC 2239: Introduction to Data Science Final Project\n",
    "## Stage 1: Proposal\n",
    "\n",
    "### Members: Linda Li, Nichoas Ko"
   ]
  },
  {
   "cell_type": "code",
   "execution_count": null,
   "metadata": {},
   "outputs": [],
   "source": [
    "#Load Packages\n",
    "import numpy as np\n",
    "import pandas as pd\n",
    "from datascience import *\n",
    "\n",
    "import matplotlib\n",
    "import matplotlib.pyplot as plt\n",
    "import seaborn as sns\n",
    "sns.set()\n",
    "plt.style.use('fivethirtyeight')\n",
    "\n",
    "%matplotlib inline"
   ]
  },
  {
   "cell_type": "markdown",
   "metadata": {},
   "source": [
    "\n",
    "\n",
    "__Data:__ (5 points) Describe the data set you have chosen and where it comes from, and the numbers of observations and predictors in the dataset (to the best of your knowledge). \n",
    "\n"
   ]
  },
  {
   "cell_type": "markdown",
   "metadata": {},
   "source": [
    "\n",
    "__Research questions:__ (6 points) Come up with at least three research questions that you want to answer using these data. Make sure that at least two of these questions involve at least three variables. You are welcomed to create new variables based on existing ones. Note that you will have the option to update / revise / change these questions for your presentation at the end of the semester.\n",
    "\n"
   ]
  },
  {
   "cell_type": "markdown",
   "metadata": {},
   "source": [
    "__EDA:__ (9 points) Perform exploratory data analysis (EDA) that adresses, but not necessarily fully answers, each of the three research questions you outlined above. Your EDA should contain numerical summaries and visualizations. Each Jupyter notebook output or plot should be accompanied by a brief interpretation. Do not use more than 2 plots per research question.\n",
    "\n"
   ]
  },
  {
   "cell_type": "markdown",
   "metadata": {},
   "source": [
    "__Timeline:__ (2 points) Sketch out a timeline for the work you will do each week to complete this project. Be realistic.\n"
   ]
  },
  {
   "cell_type": "markdown",
   "metadata": {},
   "source": [
    "\n",
    "__Teamwork:__ (3 points) Describe in detail how you will divide up the work between team members and what aspects of the project you will complete together as a team. Note that during the presentation session each member needs to be able to answer questions about all aspects of the work, regardless of whether they took the lead on that section or not."
   ]
  },
  {
   "cell_type": "code",
   "execution_count": null,
   "metadata": {},
   "outputs": [],
   "source": []
  }
 ],
 "metadata": {
  "kernelspec": {
   "display_name": "Python 3",
   "language": "python",
   "name": "python3"
  },
  "language_info": {
   "codemirror_mode": {
    "name": "ipython",
    "version": 3
   },
   "file_extension": ".py",
   "mimetype": "text/x-python",
   "name": "python",
   "nbconvert_exporter": "python",
   "pygments_lexer": "ipython3",
   "version": "3.8.5"
  }
 },
 "nbformat": 4,
 "nbformat_minor": 4
}
