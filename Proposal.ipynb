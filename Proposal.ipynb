{
 "cells": [
  {
   "cell_type": "markdown",
   "metadata": {},
   "source": [
    "# YSC 2239: Introduction to Data Science Final Project\n",
    "## Stage 1: Proposal\n",
    "\n",
    "### Members: Linda Li, Nichoas Ko"
   ]
  },
  {
   "cell_type": "code",
   "execution_count": null,
   "metadata": {},
   "outputs": [],
   "source": [
    "#Load Packages\n",
    "import numpy as np\n",
    "import pandas as pd\n",
    "from datascience import *\n",
    "\n",
    "import matplotlib\n",
    "import matplotlib.pyplot as plt\n",
    "import seaborn as sns\n",
    "sns.set()\n",
    "plt.style.use('fivethirtyeight')\n",
    "\n",
    "%matplotlib inline"
   ]
  },
  {
   "cell_type": "markdown",
   "metadata": {},
   "source": [
    "\n",
    "\n",
    "# __Data:__ (5 points) \n",
    "\n",
    "Describe the data set you have chosen and where it comes from, and the numbers of observations and predictors in the dataset (to the best of your knowledge). \n",
    "\n"
   ]
  },
  {
   "cell_type": "code",
   "execution_count": null,
   "metadata": {},
   "outputs": [],
   "source": [
    "crime = pd.read_csv (r'crime_boston\\crime.csv', encoding = 'windows-1254')\n",
    "# print(len(crime['INCIDENT_NUMBER'].unique))\n",
    "\n",
    "print(len(crime))\n",
    "print(len(crime['INCIDENT_NUMBER'].unique()))\n",
    "crime"
   ]
  },
  {
   "cell_type": "markdown",
   "metadata": {},
   "source": [
    "## Columns in `crime` dataframe:\n",
    "\n",
    "\n",
    "### Columns 1-4\n",
    "|Index| Column Name | Description |\n",
    "| --- |:--- |:--- |\n",
    "|1.| **INCIDENT_NUMBER**| There are some cases that are not unique.|"
   ]
  },
  {
   "cell_type": "code",
   "execution_count": null,
   "metadata": {},
   "outputs": [],
   "source": [
    "print('Number of rows in crime data frame:',len(crime))\n",
    "print('Number of unique values in INCIDENT_NUMBER column:',len(crime['INCIDENT_NUMBER'].unique()))"
   ]
  },
  {
   "cell_type": "markdown",
   "metadata": {},
   "source": [
    "|Index| Column Name | Description |\n",
    "| --- |:--- |:--- |\n",
    "|2.| **'OFFENSE_CODE'** |Offense type coded as some number. <br> Can refer to the other data frame `offence_codes.csv`.|"
   ]
  },
  {
   "cell_type": "markdown",
   "metadata": {},
   "source": [
    "|Index| Column Name | Description |\n",
    "| --- |:--- |:--- |\n",
    "|3.|**'OFFENSE_CODE_GROUP'**| Some names for how they group offense codes. <br >See table below for groupby table.|"
   ]
  },
  {
   "cell_type": "code",
   "execution_count": null,
   "metadata": {},
   "outputs": [],
   "source": [
    "crime[['INCIDENT_NUMBER','OFFENSE_CODE_GROUP']].groupby('OFFENSE_CODE_GROUP').agg('count').sort_values('INCIDENT_NUMBER', ascending = False).head(20)"
   ]
  },
  {
   "cell_type": "markdown",
   "metadata": {},
   "source": [
    "|Index| Column Name | Description |\n",
    "| --- |:--- |:--- |\n",
    "|4.| **'OFFENSE_DESCRIPTION'**| More details on offense group, this column doesn't seem to <br> give much more information than what is already in the `OFFENSE_CODE_GROUP` column.|"
   ]
  },
  {
   "cell_type": "code",
   "execution_count": null,
   "metadata": {
    "scrolled": true
   },
   "outputs": [],
   "source": [
    "crime[['OFFENSE_CODE_GROUP','OFFENSE_DESCRIPTION']].head(5)"
   ]
  },
  {
   "cell_type": "markdown",
   "metadata": {},
   "source": [
    "### All columns\n",
    "\n",
    "|Index| Column Name | Description |\n",
    "| --- |:--- |:--- |\n",
    "|1| **INCIDENT_NUMBER**| There are some cases that are not unique.|\n",
    "|2.| **'OFFENSE_CODE'** |Offense type coded as some number. <br> Can refer to the other data frame `offence_codes.csv`.|\n",
    "|3.|**'OFFENSE_CODE_GROUP'**| Some names for how they group offense codes. <br >See table below for groupby table.|\n",
    "|4.| **'OFFENSE_DESCRIPTION'**| More details on offense group, this column doesn't seem to <br> give much more information than what is already in the `OFFENSE_CODE_GROUP` column.|\n",
    "|5.| **'DISTRICT'**|District Number.| \n",
    "|6.| **'REPORTING_AREA'** | Some area code|\n",
    "|7.| **'SHOOTING'**|Whether the incident was a shooting or not. Contains boolean of either `nan` or `Y`| \n",
    "|8.| **'OCCURRED_ON_DATE'** |Time of occurence given in YYYY-MM-DD 00:00:00 format.|\n",
    "|9. |**'YEAR'** |Year|\n",
    "|10. |**'MONTH'** |Month|\n",
    "|11.| **'DAY_OF_WEEK'** |Monday-Friday|\n",
    "|12.| **'HOUR'**:| Hour in terms of 24 hour timing.|\n",
    "|13.| **'UCR_PART'**| UCR- Uniform Crime Report, points to which part of UCR data the row was taken from.| \n",
    "|14.| **'STREET'**| Street Name|\n",
    "|15.| **'Lat'**| Latitude|\n",
    "|16.| **'Long'**| Longtitude|\n",
    "|17.| **'Location'**| (Latitude, Longtitude)|"
   ]
  },
  {
   "cell_type": "markdown",
   "metadata": {},
   "source": [
    "\n",
    "# __Research questions: (6 points)__\n",
    "\n",
    "Come up with at least three research questions that you want to answer using these data. Make sure that at least two of these questions involve at least three variables. You are welcomed to create new variables based on existing ones. Note that you will have the option to update / revise / change these questions for your presentation at the end of the semester.\n",
    "\n"
   ]
  },
  {
   "cell_type": "markdown",
   "metadata": {},
   "source": [
    "### Possible research questions:\n",
    "\n",
    "1. What is the relationship between district and crime?\n",
    "\n",
    "2. Is there relationship between drug crimes and other kinds of crime?\n",
    "\n",
    "3. Can we use a model to predict the probability of when crime will happen based on different parameters like time, area, type of crime? The results may help officers to do more patrol in specific areas at specific time.\n"
   ]
  },
  {
   "cell_type": "markdown",
   "metadata": {},
   "source": [
    "# __EDA:__ (9 points) \n",
    "\n",
    "Perform exploratory data analysis (EDA) that adresses, but not necessarily fully answers, each of the three research questions you outlined above. Your EDA should contain numerical summaries and visualizations. Each Jupyter notebook output or plot should be accompanied by a brief interpretation. Do not use more than 2 plots per research question.\n",
    "\n"
   ]
  },
  {
   "cell_type": "markdown",
   "metadata": {},
   "source": [
    "#### 1. How has the crime rate in different districts change over time? (Nicholas)\n",
    "\n",
    "Is the crime rate in each district due to randomness?\n",
    "\n",
    "Shuffle the district rows and check the proportion. "
   ]
  },
  {
   "cell_type": "code",
   "execution_count": null,
   "metadata": {},
   "outputs": [],
   "source": [
    "from matplotlib.pyplot import figure\n",
    "\n",
    "figure(figsize=(10, 10), dpi=80)\n",
    "\n",
    "crime_year = crime.groupby(['YEAR','DISTRICT']).agg('count')[['INCIDENT_NUMBER']].reset_index()\n",
    "\n",
    "crime_year = crime_year.rename(columns={\"INCIDENT_NUMBER\": \"n_crime\",\n",
    "                                       \"YEAR\":\"year\",\n",
    "                                       \"DISTRICT\":\"district\"})\n",
    "\n",
    "pivot_crime_year = crime_year.pivot_table(values = 'n_crime',\n",
    "                       index = 'year',\n",
    "                      columns = 'district',\n",
    "                     fill_value = 0)\n",
    "\n",
    "# crime_year.plot.scatter('year', 'n_crime', c = 'district')\n",
    "# crime_year.plot('year', 'n_crime')\n",
    "\n",
    "crime_year_plot = pivot_crime_year.plot()\n",
    "\n",
    "crime_year_plot.set_ylabel('Crime Committed')\n",
    "crime_year_plot.legend(bbox_to_anchor=(1.1, 1))"
   ]
  },
  {
   "cell_type": "markdown",
   "metadata": {},
   "source": [
    "#### 2. Is there relationship between time of day and drug crime (Linda)"
   ]
  },
  {
   "cell_type": "markdown",
   "metadata": {},
   "source": [
    "We can do a bootstrap to see if the correlation between the number of incidences and time of the hour/month are statistically significant or not. *See Lab 07.*\n",
    "\n",
    "**Null Hypothesis**: There is no significant different in incident count at different times.\n",
    "\n",
    "**Alternative Hypothesis** Midnight/summer are when you would see more crime.\n",
    "\n",
    "Use bootstrapping."
   ]
  },
  {
   "cell_type": "code",
   "execution_count": null,
   "metadata": {},
   "outputs": [],
   "source": [
    "crime.groupby('MONTH').agg('count')[['INCIDENT_NUMBER']]"
   ]
  },
  {
   "cell_type": "markdown",
   "metadata": {},
   "source": [
    "#### 3. Can we use a model to predict the probability of when crime will happen based on different parameters like time, area, type of crime? The results may help officers to do more patrol in specific areas at specific time. (Nicholas/Linda)"
   ]
  },
  {
   "cell_type": "markdown",
   "metadata": {},
   "source": [
    "Use KFold Validation to see which parameters have predictive power. Lab 09."
   ]
  },
  {
   "cell_type": "code",
   "execution_count": null,
   "metadata": {},
   "outputs": [],
   "source": [
    "crime.columns"
   ]
  },
  {
   "cell_type": "code",
   "execution_count": null,
   "metadata": {},
   "outputs": [],
   "source": [
    "## Independent variable: District, year, time/month\n",
    "## Dependent variable: Incident number"
   ]
  },
  {
   "cell_type": "markdown",
   "metadata": {},
   "source": [
    "# __Timeline:__ (2 points) \n",
    "\n",
    "Sketch out a timeline for the work you will do each week to complete this project. Be realistic.\n"
   ]
  },
  {
   "cell_type": "code",
   "execution_count": null,
   "metadata": {},
   "outputs": [],
   "source": []
  },
  {
   "cell_type": "markdown",
   "metadata": {},
   "source": [
    "\n",
    "# __Teamwork:__ (3 points) \n",
    "\n",
    "Describe in detail how you will divide up the work between team members and what aspects of the project you will complete together as a team. Note that during the presentation session each member needs to be able to answer questions about all aspects of the work, regardless of whether they took the lead on that section or not."
   ]
  },
  {
   "cell_type": "code",
   "execution_count": null,
   "metadata": {},
   "outputs": [],
   "source": []
  }
 ],
 "metadata": {
  "kernelspec": {
   "display_name": "Python 3",
   "language": "python",
   "name": "python3"
  },
  "language_info": {
   "codemirror_mode": {
    "name": "ipython",
    "version": 3
   },
   "file_extension": ".py",
   "mimetype": "text/x-python",
   "name": "python",
   "nbconvert_exporter": "python",
   "pygments_lexer": "ipython3",
   "version": "3.8.5"
  }
 },
 "nbformat": 4,
 "nbformat_minor": 4
}
